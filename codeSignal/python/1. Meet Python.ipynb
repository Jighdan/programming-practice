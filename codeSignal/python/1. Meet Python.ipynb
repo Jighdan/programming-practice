{
 "cells": [
  {
   "cell_type": "markdown",
   "metadata": {},
   "source": [
    "# Python Concepts\n",
    "## Collections Truthness\n",
    "\n",
    "What will be the value of **res** after the following snippet is executed:"
   ]
  },
  {
   "cell_type": "code",
   "execution_count": 1,
   "metadata": {},
   "outputs": [],
   "source": [
    "xs = [()]\n",
    "res = [False] * 2\n",
    "if xs:\n",
    "    res[0] = True\n",
    "if xs[0]:\n",
    "    res[1] = True"
   ]
  },
  {
   "cell_type": "markdown",
   "metadata": {},
   "source": [
    "## Effcient Comparison\n",
    "\n",
    "You would like to write a function that takes integer numbers **x**, **y**, **L** and **R** as parameters, and returns **True** if **x^y** lies within the interval **(L, R]** and **False** otherwise. You're considering several different ways to write the conditional statement inside this function. Which option would be the most efficient in terms of execution time?"
   ]
  },
  {
   "cell_type": "code",
   "execution_count": 3,
   "metadata": {},
   "outputs": [],
   "source": [
    "def efficient_comparison(x, y, L, R):\n",
    "    if L < x ** y <= R:\n",
    "        pass\n",
    "    elif x ** y > L and x ** y <= R:\n",
    "        pass\n",
    "    elif x ** y in range(L + 1, R + 1):\n",
    "        pass"
   ]
  },
  {
   "cell_type": "markdown",
   "metadata": {},
   "source": [
    "## Special Conditional\n",
    "\n",
    "Given two boolean variables **a** and  **b**, one of the following statements works differently than the others. Thich one is it?"
   ]
  },
  {
   "cell_type": "code",
   "execution_count": 6,
   "metadata": {},
   "outputs": [
    {
     "ename": "SyntaxError",
     "evalue": "invalid syntax (<ipython-input-6-6d954779442f>, line 6)",
     "output_type": "error",
     "traceback": [
      "\u001b[0;36m  File \u001b[0;32m\"<ipython-input-6-6d954779442f>\"\u001b[0;36m, line \u001b[0;32m6\u001b[0m\n\u001b[0;31m    elif a == not b:\u001b[0m\n\u001b[0m                ^\u001b[0m\n\u001b[0;31mSyntaxError\u001b[0m\u001b[0;31m:\u001b[0m invalid syntax\n"
     ]
    }
   ],
   "source": [
    "def special_conditional(a, b):\n",
    "    if not a == b:\n",
    "        pass\n",
    "    elif not (a == b):\n",
    "        pass\n",
    "    elif a == not b:\n",
    "        pass\n",
    "    elif a == (not b):\n",
    "        pass"
   ]
  },
  {
   "cell_type": "code",
   "execution_count": null,
   "metadata": {},
   "outputs": [],
   "source": []
  }
 ],
 "metadata": {
  "kernelspec": {
   "display_name": "Python 3",
   "language": "python",
   "name": "python3"
  },
  "language_info": {
   "codemirror_mode": {
    "name": "ipython",
    "version": 3
   },
   "file_extension": ".py",
   "mimetype": "text/x-python",
   "name": "python",
   "nbconvert_exporter": "python",
   "pygments_lexer": "ipython3",
   "version": "3.7.6"
  }
 },
 "nbformat": 4,
 "nbformat_minor": 4
}
